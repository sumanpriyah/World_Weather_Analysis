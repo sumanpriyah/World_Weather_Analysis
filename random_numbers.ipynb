{
 "cells": [
  {
   "cell_type": "code",
   "execution_count": null,
   "id": "c6b1851f",
   "metadata": {},
   "outputs": [],
   "source": [
    "import random"
   ]
  },
  {
   "cell_type": "code",
   "execution_count": null,
   "id": "5e5013ca",
   "metadata": {},
   "outputs": [],
   "source": [
    "random.random()"
   ]
  },
  {
   "cell_type": "code",
   "execution_count": null,
   "id": "96354066",
   "metadata": {},
   "outputs": [],
   "source": [
    "random.randint(-90,90)"
   ]
  },
  {
   "cell_type": "code",
   "execution_count": null,
   "id": "a8df2149",
   "metadata": {},
   "outputs": [],
   "source": [
    "random_number = random.randint(-90,90) + random.random()\n",
    "random_number"
   ]
  },
  {
   "cell_type": "code",
   "execution_count": null,
   "id": "8d3d0e47",
   "metadata": {},
   "outputs": [],
   "source": [
    "x=1\n",
    "latitude=[]\n",
    "while x<11:\n",
    "    random_number = random.randint(-90,90) + random.random()\n",
    "    latitude.append(random_number)\n",
    "    x= x+1\n"
   ]
  },
  {
   "cell_type": "code",
   "execution_count": null,
   "id": "ea20df05",
   "metadata": {},
   "outputs": [],
   "source": [
    "latitude"
   ]
  },
  {
   "cell_type": "code",
   "execution_count": null,
   "id": "01d4e7b3",
   "metadata": {},
   "outputs": [],
   "source": [
    "random.randrange(-90,90, step=1)"
   ]
  },
  {
   "cell_type": "code",
   "execution_count": null,
   "id": "1d345c08",
   "metadata": {},
   "outputs": [],
   "source": [
    "random.randrange(-90,90, step=2)"
   ]
  },
  {
   "cell_type": "code",
   "execution_count": null,
   "id": "46e38e22",
   "metadata": {},
   "outputs": [],
   "source": [
    "random.randrange(-90,90, step=3)"
   ]
  },
  {
   "cell_type": "code",
   "execution_count": null,
   "id": "bbbb4740",
   "metadata": {},
   "outputs": [],
   "source": [
    "# Import the NumPy module.\n",
    "import numpy as np"
   ]
  },
  {
   "cell_type": "code",
   "execution_count": null,
   "id": "5dca826e",
   "metadata": {},
   "outputs": [],
   "source": [
    "# Import timeit\n",
    "\n",
    "import timeit"
   ]
  },
  {
   "cell_type": "code",
   "execution_count": null,
   "id": "0201c3e3",
   "metadata": {},
   "outputs": [],
   "source": [
    "%timeit  np.random.uniform(-90,90, size=1550)"
   ]
  },
  {
   "cell_type": "code",
   "execution_count": null,
   "id": "f212a614",
   "metadata": {},
   "outputs": [],
   "source": [
    "np.random.uniform(low=-90, high=90)"
   ]
  },
  {
   "cell_type": "code",
   "execution_count": null,
   "id": "c360ac9e",
   "metadata": {},
   "outputs": [],
   "source": [
    "def latitude(size):\n",
    "    latitude = []\n",
    "    x= 0\n",
    "    while x<(size):\n",
    "        random_num= random.randint(-90,90) + random.random()\n",
    "        latitude.append(random_num)\n",
    "        x=x+1\n",
    "    return latitude\n",
    "%timeit latitude(1500)\n"
   ]
  },
  {
   "cell_type": "code",
   "execution_count": null,
   "id": "ffa36efe",
   "metadata": {},
   "outputs": [],
   "source": []
  }
 ],
 "metadata": {
  "kernelspec": {
   "display_name": "Python 3 (ipykernel)",
   "language": "python",
   "name": "python3"
  },
  "language_info": {
   "codemirror_mode": {
    "name": "ipython",
    "version": 3
   },
   "file_extension": ".py",
   "mimetype": "text/x-python",
   "name": "python",
   "nbconvert_exporter": "python",
   "pygments_lexer": "ipython3",
   "version": "3.9.7"
  }
 },
 "nbformat": 4,
 "nbformat_minor": 5
}
