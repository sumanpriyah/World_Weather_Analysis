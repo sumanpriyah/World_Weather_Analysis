{
 "cells": [
  {
   "cell_type": "code",
   "execution_count": null,
   "id": "c6b1851f",
   "metadata": {},
   "outputs": [],
   "source": [
    "import random"
   ]
  },
  {
   "cell_type": "code",
   "execution_count": 2,
   "id": "5e5013ca",
   "metadata": {},
   "outputs": [
    {
     "data": {
      "text/plain": [
       "0.16614479328088483"
      ]
     },
     "execution_count": 2,
     "metadata": {},
     "output_type": "execute_result"
    }
   ],
   "source": [
    "random.random()"
   ]
  },
  {
   "cell_type": "code",
   "execution_count": 3,
   "id": "96354066",
   "metadata": {},
   "outputs": [
    {
     "data": {
      "text/plain": [
       "-73"
      ]
     },
     "execution_count": 3,
     "metadata": {},
     "output_type": "execute_result"
    }
   ],
   "source": [
    "random.randint(-90,90)"
   ]
  },
  {
   "cell_type": "code",
   "execution_count": 4,
   "id": "a8df2149",
   "metadata": {},
   "outputs": [
    {
     "data": {
      "text/plain": [
       "-48.55456331014259"
      ]
     },
     "execution_count": 4,
     "metadata": {},
     "output_type": "execute_result"
    }
   ],
   "source": [
    "random_number = random.randint(-90,90) + random.random()\n",
    "random_number"
   ]
  },
  {
   "cell_type": "code",
   "execution_count": 6,
   "id": "8d3d0e47",
   "metadata": {},
   "outputs": [],
   "source": [
    "x=1\n",
    "latitude=[]\n",
    "while x<11:\n",
    "    random_number = random.randint(-90,90) + random.random()\n",
    "    latitude.append(random_number)\n",
    "    x= x+1\n"
   ]
  },
  {
   "cell_type": "code",
   "execution_count": 7,
   "id": "ea20df05",
   "metadata": {},
   "outputs": [
    {
     "data": {
      "text/plain": [
       "[-39.47122196591742,\n",
       " 58.942155578910075,\n",
       " 2.5432347762487013,\n",
       " -85.02371606671744,\n",
       " -51.252649415316064,\n",
       " -0.24169843849998696,\n",
       " 22.064196739367958,\n",
       " -76.98383006599691,\n",
       " 0.5810239679133603,\n",
       " -4.893488293027137]"
      ]
     },
     "execution_count": 7,
     "metadata": {},
     "output_type": "execute_result"
    }
   ],
   "source": [
    "latitude"
   ]
  },
  {
   "cell_type": "code",
   "execution_count": 22,
   "id": "01d4e7b3",
   "metadata": {},
   "outputs": [
    {
     "data": {
      "text/plain": [
       "-35"
      ]
     },
     "execution_count": 22,
     "metadata": {},
     "output_type": "execute_result"
    }
   ],
   "source": [
    "random.randrange(-90,90, step=1)"
   ]
  },
  {
   "cell_type": "code",
   "execution_count": 23,
   "id": "1d345c08",
   "metadata": {},
   "outputs": [
    {
     "data": {
      "text/plain": [
       "16"
      ]
     },
     "execution_count": 23,
     "metadata": {},
     "output_type": "execute_result"
    }
   ],
   "source": [
    "random.randrange(-90,90, step=2)"
   ]
  },
  {
   "cell_type": "code",
   "execution_count": 24,
   "id": "46e38e22",
   "metadata": {},
   "outputs": [
    {
     "data": {
      "text/plain": [
       "-69"
      ]
     },
     "execution_count": 24,
     "metadata": {},
     "output_type": "execute_result"
    }
   ],
   "source": [
    "random.randrange(-90,90, step=3)"
   ]
  },
  {
   "cell_type": "code",
   "execution_count": 25,
   "id": "bbbb4740",
   "metadata": {},
   "outputs": [],
   "source": [
    "# Import the NumPy module.\n",
    "import numpy as np"
   ]
  },
  {
   "cell_type": "code",
   "execution_count": 33,
   "id": "5dca826e",
   "metadata": {},
   "outputs": [],
   "source": [
    "# Import timeit\n",
    "\n",
    "import timeit"
   ]
  },
  {
   "cell_type": "code",
   "execution_count": 35,
   "id": "0201c3e3",
   "metadata": {},
   "outputs": [
    {
     "name": "stdout",
     "output_type": "stream",
     "text": [
      "11.6 µs ± 992 ns per loop (mean ± std. dev. of 7 runs, 100000 loops each)\n"
     ]
    }
   ],
   "source": [
    "%timeit  np.random.uniform(-90,90, size=1550)"
   ]
  },
  {
   "cell_type": "code",
   "execution_count": 29,
   "id": "f212a614",
   "metadata": {},
   "outputs": [
    {
     "data": {
      "text/plain": [
       "-27.916460424319183"
      ]
     },
     "execution_count": 29,
     "metadata": {},
     "output_type": "execute_result"
    }
   ],
   "source": [
    "np.random.uniform(low=-90, high=90)"
   ]
  },
  {
   "cell_type": "code",
   "execution_count": 42,
   "id": "c360ac9e",
   "metadata": {},
   "outputs": [
    {
     "name": "stdout",
     "output_type": "stream",
     "text": [
      "1.14 ms ± 50.7 µs per loop (mean ± std. dev. of 7 runs, 1000 loops each)\n"
     ]
    }
   ],
   "source": [
    "def latitude(size):\n",
    "    latitude = []\n",
    "    x= 0\n",
    "    while x<(size):\n",
    "        random_num= random.randint(-90,90) + random.random()\n",
    "        latitude.append(random_num)\n",
    "        x=x+1\n",
    "    return latitude\n",
    "%timeit latitude(1500)\n"
   ]
  },
  {
   "cell_type": "code",
   "execution_count": null,
   "id": "ffa36efe",
   "metadata": {},
   "outputs": [],
   "source": []
  }
 ],
 "metadata": {
  "kernelspec": {
   "display_name": "Python 3 (ipykernel)",
   "language": "python",
   "name": "python3"
  },
  "language_info": {
   "codemirror_mode": {
    "name": "ipython",
    "version": 3
   },
   "file_extension": ".py",
   "mimetype": "text/x-python",
   "name": "python",
   "nbconvert_exporter": "python",
   "pygments_lexer": "ipython3",
   "version": "3.9.7"
  }
 },
 "nbformat": 4,
 "nbformat_minor": 5
}
